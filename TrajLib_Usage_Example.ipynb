{
 "cells": [
  {
   "cell_type": "code",
   "execution_count": 1,
   "metadata": {},
   "outputs": [],
   "source": [
    "import pandas as pd\n",
    "import pandas as pd\n",
    "import numpy as np\n",
    "import TrajectorySegmentation as ts\n",
    "import Trajectory as tr\n",
    "from scipy import stats\n",
    "from sklearn import metrics\n",
    "from sklearn.model_selection import cross_val_score\n",
    "from sklearn.preprocessing import StandardScaler\n",
    "from sklearn import preprocessing\n",
    "from sklearn.ensemble import RandomForestClassifier\n",
    "import matplotlib.pyplot as plt\n",
    "%matplotlib inline"
   ]
  },
  {
   "cell_type": "markdown",
   "metadata": {},
   "source": [
    "## Trajectory Library usage\n",
    "In this cell, we load data.\n",
    "we need to pass the column names for latitude, longitude, time and date, target (our class labels), file name and the seperator character."
   ]
  },
  {
   "cell_type": "code",
   "execution_count": 2,
   "metadata": {},
   "outputs": [
    {
     "name": "stdout",
     "output_type": "stream",
     "text": [
      "loading...\n",
      "lat\n",
      "lon\n",
      "altitude\n",
      "time\n",
      "['target']\n",
      "animal.csv\n",
      ",\n",
      "Data loaded.\n",
      "(287095, 6)\n"
     ]
    }
   ],
   "source": [
    "ts_obj=ts.TrajectorySegmentation()\n",
    "ts_obj.load_data(lat='lat',lon='lon',alt='altitude',time_date='time',\n",
    "                 labels=['target'],src='animal.csv',seperator=',')\n",
    "print(ts_obj.return_row_data().shape)"
   ]
  },
  {
   "cell_type": "markdown",
   "metadata": {},
   "source": [
    "# Check class labels"
   ]
  },
  {
   "cell_type": "code",
   "execution_count": 3,
   "metadata": {},
   "outputs": [
    {
     "data": {
      "text/plain": [
       "{'cattle', 'deer', 'elk'}"
      ]
     },
     "execution_count": 3,
     "metadata": {},
     "output_type": "execute_result"
    }
   ],
   "source": [
    "set(ts_obj.return_row_data().target)"
   ]
  },
  {
   "cell_type": "markdown",
   "metadata": {},
   "source": [
    "# Segmentation\n",
    "In this cell, we segment our raw trajectory. We can use segmentation methods avaiable such as segmentByLabel, Multi_Label_Segmentation and ...\n",
    "Using segmentByLabel, we need to pass label as a column that has trajectory IDs.\n",
    "Using multi_label_segmentation, we pass an array of columns that is going to segment our data."
   ]
  },
  {
   "cell_type": "code",
   "execution_count": 4,
   "metadata": {},
   "outputs": [
    {
     "name": "stdout",
     "output_type": "stream",
     "text": [
      "Number of trajectories in dataset: 252\n",
      "Classes in dataset: {'elk', 'cattle', 'deer'}\n"
     ]
    }
   ],
   "source": [
    "segments, trajectorySegments=ts_obj.segmentByLabel(label='tid')\n",
    "#segments, trajectorySegments=ts_obj.multi_label_segmentation(labels=['t_user_id','day','transportation_mode'])\n",
    "print('Number of trajectories in dataset:',len(trajectorySegments))\n",
    "print('Classes in dataset:',set(ts_obj.return_row_data().target))"
   ]
  },
  {
   "cell_type": "markdown",
   "metadata": {},
   "source": [
    "# Feature Extraction\n",
    "For each segment generated using the previous step, we generate point features and trajectory features and collect them in an array."
   ]
  },
  {
   "cell_type": "code",
   "execution_count": 5,
   "metadata": {},
   "outputs": [],
   "source": [
    "i=1\n",
    "features=[]\n",
    "for seg in range(len(trajectorySegments)):\n",
    "    # only use segments longer than 10\n",
    "    if(trajectorySegments[seg].shape[0]>10):\n",
    "\n",
    "        tr_obj=tr.Trajectory(mood='df',trajectory=trajectorySegments[seg],labels=['target'])\n",
    "        \n",
    "        tr_obj.point_features() # generate point_features\n",
    "        f=tr_obj.trajectory_features()# generate trajectory_features\n",
    "        userid=1\n",
    "\n",
    "        f.append(userid)\n",
    "        features.append(np.array(f))\n",
    "        i=i+1\n",
    "        if (i%300)==1:\n",
    "            print(i)"
   ]
  },
  {
   "cell_type": "markdown",
   "metadata": {},
   "source": [
    "# save the feature extraction results"
   ]
  },
  {
   "cell_type": "code",
   "execution_count": 6,
   "metadata": {},
   "outputs": [],
   "source": [
    "bearingSet=[ 'bearing_min', 'bearing_max', 'bearing_mean', 'bearing_median', 'bearing_std','bearing_p10','bearing_p25','bearing_p50','bearing_p75','bearing_p90']\n",
    "speedSet=[ 'speed_min', 'speed_max', 'speed_mean', 'speed_median', 'speed_std','speed_p10','speed_p25','speed_p50','speed_p75','speed_p90']\n",
    "distanceSet=[ 'distance_min', 'distance_max', 'distance_mean', 'distance_median', 'distance_std','distance_p10','distance_p25','distance_p50','distance_p75','distance_p90']\n",
    "accelerationSet=['acceleration_min', 'acceleration_max', 'acceleration_mean', 'acceleration_median','acceleration_std','acceleration_p10','acceleration_p25','acceleration_p50','acceleration_p75','acceleration_p90']\n",
    "jerkSet=[ 'jerk_min', 'jerk_max', 'jerk_mean', 'jerk_median', 'jerk_std','jerk_p10','jerk_p25','jerk_p50','jerk_p75','jerk_p90']\n",
    "brateSet=[ 'bearing_rate_min', 'bearing_rate_max', 'bearing_rate_mean', 'bearing_rate_median', 'bearing_rate_std','bearing_rate_p10','bearing_rate_p25','bearing_rate_p50','bearing_rate_p75','bearing_rate_p90']\n",
    "brate_rateSet=[ 'brate_rate_min', 'brate_rate_max', 'brate_rate_mean', 'brate_rate_median', 'brate_rate_std','brate_rate_p10','brate_rate_p25','brate_rate_p50','brate_rate_p75','brate_rate_p90']\n",
    "\n",
    "targetset=['cattle', 'deer', 'elk']\n",
    "col=distanceSet+speedSet+accelerationSet+bearingSet+jerkSet+brateSet+brate_rateSet+['isInValid', 'isPure', 'target','userId']\n",
    "\n",
    "features_set = pd.DataFrame(features,columns=col)\n",
    "features_set.to_csv('features_animal.csv')"
   ]
  }
 ],
 "metadata": {
  "kernelspec": {
   "display_name": "Python 3",
   "language": "python",
   "name": "python3"
  },
  "language_info": {
   "codemirror_mode": {
    "name": "ipython",
    "version": 3
   },
   "file_extension": ".py",
   "mimetype": "text/x-python",
   "name": "python",
   "nbconvert_exporter": "python",
   "pygments_lexer": "ipython3",
   "version": "3.7.1"
  }
 },
 "nbformat": 4,
 "nbformat_minor": 2
}
