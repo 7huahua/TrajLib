{
 "cells": [
  {
   "cell_type": "code",
   "execution_count": 4,
   "metadata": {},
   "outputs": [],
   "source": [
    "import pandas as pd"
   ]
  },
  {
   "cell_type": "code",
   "execution_count": 18,
   "metadata": {},
   "outputs": [
    {
     "name": "stdout",
     "output_type": "stream",
     "text": [
      "   Unnamed: 0  distance_min   distance_max  distance_mean  distance_median  \\\n",
      "0           0           0.0     260.721812      10.355648         1.248664   \n",
      "1           1           0.0     509.413461      32.426514         7.411914   \n",
      "2           2           0.0    2773.635264     126.261210        28.732936   \n",
      "3           3           0.0  282487.791164    7975.352281      1630.005415   \n",
      "4           4           0.0     177.000856     115.767012       170.300181   \n",
      "\n",
      "   distance_std  distance_p10  distance_p25  distance_p50  distance_p75  ...  \\\n",
      "0     30.342066      0.717323      1.017605      1.248664      3.672861  ...   \n",
      "1     82.355008      1.798754      3.369325      7.411914     11.616197  ...   \n",
      "2    375.113245      5.036944      9.378234     28.732936     52.421184  ...   \n",
      "3  27282.210381      0.000000    618.981516   1630.005415   1743.601103  ...   \n",
      "4     81.905334     34.060036     85.150090    170.300181    173.650518  ...   \n",
      "\n",
      "   modayDistance  tuesdayDistance  wednesdayDay  thursdayDistance  \\\n",
      "0            0.0              0.0   3355.230025      0.000000e+00   \n",
      "1            0.0              0.0   4507.285509      0.000000e+00   \n",
      "2            0.0              0.0  28029.988723      0.000000e+00   \n",
      "3            0.0              0.0      0.000000      3.971725e+06   \n",
      "4            0.0              0.0      0.000000      3.473010e+02   \n",
      "\n",
      "   fridayDistance  saturdayDistance  sundayDistance  stopTotal  \\\n",
      "0             0.0               0.0             0.0      569.0   \n",
      "1             0.0               0.0             0.0        0.0   \n",
      "2             0.0               0.0             0.0      389.0   \n",
      "3             0.0               0.0             0.0     4241.0   \n",
      "4             0.0               0.0             0.0        0.0   \n",
      "\n",
      "   stopTotalOverDuration  userId  \n",
      "0               0.500000       1  \n",
      "1               0.000000       1  \n",
      "2               0.246671       1  \n",
      "3               0.113520       1  \n",
      "4               0.000000       1  \n",
      "\n",
      "[5 rows x 107 columns]\n"
     ]
    }
   ],
   "source": [
    "geolife_data = pd.read_csv('databases/geolife/segment_features_geolife.csv',parse_dates=['starTime','endTime'])\n",
    "print(geolife_data.head())\n",
    "\n",
    "\n",
    "drop_list = ['isInValid', 'isPure', 'stopRate', 'starTime', 'endTime', 'isWeekDay', 'dayOfWeek', 'durationInSeconds',\n",
    "    'distanceTravelled', 'startToEndDistance', 'startLat', 'starLon', 'endLat', 'endLon', 'selfIntersect',\n",
    "    'modayDistance', 'tuesdayDistance', 'wednesdayDay', 'thursdayDistance', 'fridayDistance', 'saturdayDistance',\n",
    "    'sundayDistance', 'stopTotal', 'stopTotalOverDuration', 'userId']\n",
    "\n",
    "# geolife_data = geolife_data.drop(drop_list, axis=1)"
   ]
  },
  {
   "cell_type": "code",
   "execution_count": 17,
   "metadata": {},
   "outputs": [
    {
     "data": {
      "text/plain": [
       "target\n",
       "airplane      2\n",
       "bus          34\n",
       "subway       47\n",
       "taxi         92\n",
       "train        99\n",
       "walk        149\n",
       "dtype: int64"
      ]
     },
     "execution_count": 17,
     "metadata": {},
     "output_type": "execute_result"
    }
   ],
   "source": [
    "geolife_data.groupby('target').apply(lambda x: x.target.count())"
   ]
  },
  {
   "cell_type": "code",
   "execution_count": 16,
   "metadata": {},
   "outputs": [],
   "source": [
    "geolife_data = geolife_data.drop(geolife_data[geolife_data['target']=='car'].index)"
   ]
  }
 ],
 "metadata": {
  "kernelspec": {
   "display_name": "jupyter_env",
   "language": "python",
   "name": "python3"
  },
  "language_info": {
   "codemirror_mode": {
    "name": "ipython",
    "version": 3
   },
   "file_extension": ".py",
   "mimetype": "text/x-python",
   "name": "python",
   "nbconvert_exporter": "python",
   "pygments_lexer": "ipython3",
   "version": "3.9.13"
  },
  "orig_nbformat": 4,
  "vscode": {
   "interpreter": {
    "hash": "47353162035a785368898656296598c7e0493f30b980affe27c93f25338edfed"
   }
  }
 },
 "nbformat": 4,
 "nbformat_minor": 2
}
